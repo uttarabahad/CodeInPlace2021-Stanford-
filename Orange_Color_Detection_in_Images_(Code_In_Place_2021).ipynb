{
  "nbformat": 4,
  "nbformat_minor": 0,
  "metadata": {
    "colab": {
      "name": "Orange Color Detection in Images (Code In Place 2021).ipynb",
      "provenance": [],
      "collapsed_sections": [],
      "include_colab_link": true
    },
    "kernelspec": {
      "name": "python3",
      "display_name": "Python 3"
    },
    "language_info": {
      "name": "python"
    }
  },
  "cells": [
    {
      "cell_type": "markdown",
      "metadata": {
        "id": "view-in-github",
        "colab_type": "text"
      },
      "source": [
        "<a href=\"https://colab.research.google.com/github/uttarabahad/CodeInPlace2021-Stanford-/blob/main/Orange_Color_Detection_in_Images_(Code_In_Place_2021).ipynb\" target=\"_parent\"><img src=\"https://colab.research.google.com/assets/colab-badge.svg\" alt=\"Open In Colab\"/></a>"
      ]
    },
    {
      "cell_type": "markdown",
      "metadata": {
        "id": "P--DoE-wToU5"
      },
      "source": [
        "**AIM:** To detect orange color from various other colors present in the sample image\n",
        "\n",
        "**Name:** Uttara Bahad"
      ]
    },
    {
      "cell_type": "code",
      "metadata": {
        "id": "lkEwqjKerZ_o"
      },
      "source": [
        "#Importing the necessary packages\n",
        "from google.colab.patches import cv2_imshow\n",
        "import cv2\n",
        "import numpy as np"
      ],
      "execution_count": 1,
      "outputs": []
    },
    {
      "cell_type": "code",
      "metadata": {
        "id": "WTAHf-9msuJR"
      },
      "source": [
        "#Read the image and convert it to HSV(Hue, Saturation, Value)Colour\n",
        "img = cv2.imread('sample1.png')\n",
        "hsv = cv2.cvtColor(img, cv2.COLOR_BGR2HSV)"
      ],
      "execution_count": 2,
      "outputs": []
    },
    {
      "cell_type": "code",
      "metadata": {
        "id": "0AdmNWh1sw5p"
      },
      "source": [
        "#Write the upper and lower range of colour you want to detect.\n",
        "#In this Case Orange Colour \n",
        "lower_range = np.array([5,50,50])\n",
        "upper_range = np.array([15,255,255])"
      ],
      "execution_count": 3,
      "outputs": []
    },
    {
      "cell_type": "code",
      "metadata": {
        "id": "fvyZPhXzsz3g",
        "colab": {
          "base_uri": "https://localhost:8080/",
          "height": 270
        },
        "outputId": "1ba1512f-4b77-4825-d85e-fef71f577cae"
      },
      "source": [
        "#Creating a masked image\n",
        "mask = cv2.inRange(hsv, lower_range, upper_range)\n",
        "\n",
        "#Displaying the original image \n",
        "cv2_imshow(img)"
      ],
      "execution_count": 4,
      "outputs": [
        {
          "output_type": "display_data",
          "data": {
            "image/png": "[encoded data removed]",
            "text/plain": [
              "<PIL.Image.Image image mode=RGB size=366x253 at 0x7F8414822A90>"
            ]
          },
          "metadata": {
            "tags": []
          }
        }
      ]
    },
    {
      "cell_type": "code",
      "metadata": {
        "id": "c7JujGw3zAm2",
        "colab": {
          "base_uri": "https://localhost:8080/",
          "height": 270
        },
        "outputId": "e5b88162-798d-428b-8212-81a3fa985c45"
      },
      "source": [
        "#Displaying the Masked Image with the Orange colour detected.\n",
        "cv2_imshow(mask)"
      ],
      "execution_count": 5,
      "outputs": [
        {
          "output_type": "display_data",
          "data": {
            "image/png": "[encoded data removed]",
            "text/plain": [
              "<PIL.Image.Image image mode=L size=366x253 at 0x7F841479D810>"
            ]
          },
          "metadata": {
            "tags": []
          }
        }
      ]
    }
  ]
}